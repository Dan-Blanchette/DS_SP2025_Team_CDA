{
  "nbformat": 4,
  "nbformat_minor": 0,
  "metadata": {
    "colab": {
      "provenance": [],
      "authorship_tag": "ABX9TyMhW5nCKVKH0cRWb433VzGX",
      "include_colab_link": true
    },
    "kernelspec": {
      "name": "python3",
      "display_name": "Python 3"
    },
    "language_info": {
      "name": "python"
    }
  },
  "cells": [
    {
      "cell_type": "markdown",
      "metadata": {
        "id": "view-in-github",
        "colab_type": "text"
      },
      "source": [
        "<a href=\"https://colab.research.google.com/github/Dan-Blanchette/DS_SP2025_Team_CDA/blob/main/Data_Science_AQI_Asthma.ipynb\" target=\"_parent\"><img src=\"https://colab.research.google.com/assets/colab-badge.svg\" alt=\"Open In Colab\"/></a>"
      ]
    },
    {
      "cell_type": "markdown",
      "source": [
        "# Data Science: AQI and Asthma Correlation"
      ],
      "metadata": {
        "id": "73r73VzgZNEg"
      }
    },
    {
      "cell_type": "code",
      "execution_count": null,
      "metadata": {
        "id": "3ywafRkDXwwZ"
      },
      "outputs": [],
      "source": [
        "from sklearn.tree import DecisionTreeClassifier, plot_tree\n",
        "from sklearn.model_selection import train_test_split\n",
        "from sklearn.metrics import classification_report\n",
        "import matplotlib.pyplot as plt\n",
        "\n",
        "# Load the dataset\n",
        "df = pd.read_csv(\"merged_data.csv\")"
      ]
    },
    {
      "cell_type": "markdown",
      "source": [
        "# Part 2.1 (2A)"
      ],
      "metadata": {
        "id": "96qmQAD8aF5P"
      }
    },
    {
      "cell_type": "code",
      "source": [],
      "metadata": {
        "id": "3F8cx3iSaFS0"
      },
      "execution_count": null,
      "outputs": []
    },
    {
      "cell_type": "markdown",
      "source": [
        "# Part 2.2(2B)\n",
        "\n",
        "## Dan's Model\n",
        "Model 1 Decision Tree/Random Forest for AQI threhold predictions and countie locations that are forecasted to have the most hospitilizations."
      ],
      "metadata": {
        "id": "Awyx9t6oaIIq"
      }
    },
    {
      "cell_type": "code",
      "source": [],
      "metadata": {
        "id": "TX-750_XaIgr"
      },
      "execution_count": null,
      "outputs": []
    },
    {
      "cell_type": "markdown",
      "source": [
        "# Part 2.2 (2B) Jordan's Model"
      ],
      "metadata": {
        "id": "5xR3oWkXaOgf"
      }
    },
    {
      "cell_type": "code",
      "source": [],
      "metadata": {
        "id": "JCg-pNk_dDLi"
      },
      "execution_count": null,
      "outputs": []
    },
    {
      "cell_type": "markdown",
      "source": [
        "# Part 2.3(2C) Model Output Analysis"
      ],
      "metadata": {
        "id": "YgyUISEydIcI"
      }
    },
    {
      "cell_type": "code",
      "source": [],
      "metadata": {
        "id": "EzJNyz3EdOJ_"
      },
      "execution_count": null,
      "outputs": []
    }
  ]
}